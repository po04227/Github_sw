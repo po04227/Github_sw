{
  "nbformat": 4,
  "nbformat_minor": 0,
  "metadata": {
    "colab": {
      "name": "LSTM_paragraph_classifier.ipynb",
      "provenance": [],
      "collapsed_sections": [],
      "authorship_tag": "ABX9TyNc6fWU+4y+PWRqH62abbLR",
      "include_colab_link": true
    },
    "kernelspec": {
      "name": "python3",
      "display_name": "Python 3"
    }
  },
  "cells": [
    {
      "cell_type": "markdown",
      "metadata": {
        "id": "view-in-github",
        "colab_type": "text"
      },
      "source": [
        "<a href=\"https://colab.research.google.com/github/po04227/Github_sw/blob/master/LSTM_paragraph_classifier.ipynb\" target=\"_parent\"><img src=\"https://colab.research.google.com/assets/colab-badge.svg\" alt=\"Open In Colab\"/></a>"
      ]
    },
    {
      "cell_type": "code",
      "metadata": {
        "id": "jvdrnpkynpc9",
        "colab_type": "code",
        "colab": {}
      },
      "source": [
        "import tensorflow as tf\n",
        "import numpy as np\n",
        "import pandas as pd\n",
        "from IPython.display import Image\n",
        "from keras import backend as K"
      ],
      "execution_count": null,
      "outputs": []
    },
    {
      "cell_type": "code",
      "metadata": {
        "id": "y-UYZ3Xrnrcs",
        "colab_type": "code",
        "colab": {}
      },
      "source": [
        "paragraph_dict_list = [\n",
        "         {'paragraph': 'dishplace is located in sunnyvale downtown there is parking around the area but it can be difficult to find during peak business hours my sisters and i came to this place for dinner on a weekday they were really busy so i highly recommended making reservations unless you have the patience to wait', 'category': 'food'},\n",
        "         {'paragraph': 'service can be slower during busy hours but our waiter was courteous and help gave some great entree recommendations', 'category': 'food'},\n",
        "         {'paragraph': 'portions are huge both french toast and their various omelettes are really good their french toast is probably 1.5x more than other brunch places great place to visit if you are hungry and dont want to wait 1 hour for a table', 'category': 'food'},\n",
        "         {'paragraph': 'we started with apps going the chicken and waffle slides and chicken nachos the sliders were amazing and the nachos were good too maybe by themselves the nachos would have scored better but after those sliders they were up against some tough competition', 'category': 'food'},\n",
        "         {'paragraph': 'the biscuits and gravy was too salty two people in my group had the gravy and all thought it was too salty my hubby ordered a side of double egg and it was served on two small plates who serves eggs to one person on separate plates we commented on that when it was delivered and even the server laughed and said she doesnt know why the kitchen does that presentation of food is important and they really missed on this one', 'category': 'food'},\n",
        "         {'paragraph': 'the garlic fries were a great starter (and a happy hour special) the pancakes looked and tasted great and were a fairly generous portion', 'category': 'food'},\n",
        "         {'paragraph': 'our meal was excellent i had the pasta ai formaggi which was so rich i didnt dare eat it all although i certainly wanted to excellent flavors with a great texture contrast between the soft pasta and the crisp bread crumbs too much sauce for me but a wonderful dish', 'category': 'food'},\n",
        "         {'paragraph': 'what i enjoy most about palo alto is so many restaurants have dog-friendly seating outside i had bookmarked italico from when they first opened about a 1.5 years ago and was jonesing for some pasta so time to finally knock that bookmark off', 'category': 'food'},\n",
        "         {'paragraph': 'the drinks came out fairly quickly a good two to three minutes after the orders were taken i expected my iced tea to taste a bit more sweet but this was straight up green tea with ice in it not to complain of course but i was pleasantly surprised', 'category': 'food'},\n",
        "         {'paragraph': 'despite the not so good burger the service was so slow the restaurant wasnt even half full and they took very long from the moment we got seated to the time we left it was almost 2 hours we thought that it would be quick since we ordered as soon as we sat down my coworkers did seem to enjoy their beef burgers for those who eat beef however i will not be returning it is too expensive and extremely slow service', 'category': 'food'},\n",
        "    \n",
        "         {'paragraph': 'the four reigning major champions simona halep caroline wozniacki angelique kerber and defending us open champion sloane stephens could make a case for being the quartet most likely to succeed especially as all but stephens has also enjoyed the no1 ranking within the last 14 months as they prepare for their gruelling new york campaigns they currently hold the top four places in the ranks', 'category': 'sports'},\n",
        "         {'paragraph': 'the briton was seeded nn7 here last year before a slump in form and confidence took her down to no46 after five first-round losses but there have been signs of a turnaround including a victory over a sub-par serena williams in san jose plus wins against jelena ostapenko and victoria azarenka in montreal. konta pulled out of new haven this week with illness but will hope for good things where she first scored wins in a major before her big breakthroughs to the semis in australia and wimbledon', 'category': 'sports'},\n",
        "         {'paragraph': 'stephens surged her way back from injury in stunning style to win her first major here last year—and ranked just no83 she has since proved what a big time player she is winning the miami title via four fellow major champions then reaching the final at the french open back on north american hard courts she ran to the final in montreal only just edged out by halep she has also avoided many of the big names in her quarter—except for wild card azarenka as a possible in the third round', 'category': 'sports'},\n",
        "         {'paragraph': 'when it came to england chances in the world cup it would be fair to say that most fans had never been more pessimistic than they were this year after enduring years of truly dismal performances at major tournaments – culminating in the 2014 event where they failed to win any of their three group games and finished in bottom spot those results led to the resignation of manager roy hodgson', 'category': 'sports'},\n",
        "         {'paragraph': 'the team that eliminated russia – croatia – also improved enormously during the tournament before it began their odds were 33/1 but they played with real flair and star players like luka modric ivan rakitic and ivan perisic showed their quality on the world stage having displayed their potential by winning all three of their group stage games croatia went on to face difficult tests like the semi-final against england', 'category': 'sports'},\n",
        "         {'paragraph': 'the perseyside outfit finished in fourth place in the premier league table and without a trophy last term after having reached the champions league final before losing to real madrid', 'category': 'sports'},\n",
        "         {'paragraph': 'liverpool fc will return to premier league action on saturday lunchtime when they travel to leicester city in the top flight as they look to make it four wins in a row in the league', 'category': 'sports'},\n",
        "         {'paragraph': 'alisson signed for liverpool fc from as roma this summer and the brazilian goalkeeper has helped the reds to keep three clean sheets in their first three premier league games', 'category': 'sports'},\n",
        "         {'paragraph': 'but the rankings during that run-in to new york hid some very different undercurrents for murray had struggled with a hip injury since the clay swing and had not played a match since losing his quarter-final at wimbledon and he would pull out of the us open just two days before the tournament began—too late however to promote nederer to the no2 seeding', 'category': 'sports'},\n",
        "         {'paragraph': 'then came the oh-so-familiar djokovic-nadal no-quarter-given battle for dominance in the third set there were exhilarating rallies with both chasing to the net both retrieving what looked like winning shots nadal more than once pulled off a reverse smash and had his chance to seal the tie-break but it was djokovic serving at 10-9 who dragged one decisive error from nadal for a two-sets lead', 'category': 'sports'}\n",
        "]\n",
        "df = pd.DataFrame(paragraph_dict_list)\n",
        "df = df[['paragraph', 'category']]"
      ],
      "execution_count": null,
      "outputs": []
    },
    {
      "cell_type": "code",
      "metadata": {
        "id": "oDJlIqDSnt7_",
        "colab_type": "code",
        "colab": {
          "base_uri": "https://localhost:8080/",
          "height": 204
        },
        "outputId": "667ac9c5-889b-4421-a11e-1200c2886e3d"
      },
      "source": [
        "df.head()"
      ],
      "execution_count": null,
      "outputs": [
        {
          "output_type": "execute_result",
          "data": {
            "text/html": [
              "<div>\n",
              "<style scoped>\n",
              "    .dataframe tbody tr th:only-of-type {\n",
              "        vertical-align: middle;\n",
              "    }\n",
              "\n",
              "    .dataframe tbody tr th {\n",
              "        vertical-align: top;\n",
              "    }\n",
              "\n",
              "    .dataframe thead th {\n",
              "        text-align: right;\n",
              "    }\n",
              "</style>\n",
              "<table border=\"1\" class=\"dataframe\">\n",
              "  <thead>\n",
              "    <tr style=\"text-align: right;\">\n",
              "      <th></th>\n",
              "      <th>paragraph</th>\n",
              "      <th>category</th>\n",
              "    </tr>\n",
              "  </thead>\n",
              "  <tbody>\n",
              "    <tr>\n",
              "      <th>0</th>\n",
              "      <td>dishplace is located in sunnyvale downtown the...</td>\n",
              "      <td>food</td>\n",
              "    </tr>\n",
              "    <tr>\n",
              "      <th>1</th>\n",
              "      <td>service can be slower during busy hours but ou...</td>\n",
              "      <td>food</td>\n",
              "    </tr>\n",
              "    <tr>\n",
              "      <th>2</th>\n",
              "      <td>portions are huge both french toast and their ...</td>\n",
              "      <td>food</td>\n",
              "    </tr>\n",
              "    <tr>\n",
              "      <th>3</th>\n",
              "      <td>we started with apps going the chicken and waf...</td>\n",
              "      <td>food</td>\n",
              "    </tr>\n",
              "    <tr>\n",
              "      <th>4</th>\n",
              "      <td>the biscuits and gravy was too salty two peopl...</td>\n",
              "      <td>food</td>\n",
              "    </tr>\n",
              "  </tbody>\n",
              "</table>\n",
              "</div>"
            ],
            "text/plain": [
              "                                           paragraph category\n",
              "0  dishplace is located in sunnyvale downtown the...     food\n",
              "1  service can be slower during busy hours but ou...     food\n",
              "2  portions are huge both french toast and their ...     food\n",
              "3  we started with apps going the chicken and waf...     food\n",
              "4  the biscuits and gravy was too salty two peopl...     food"
            ]
          },
          "metadata": {
            "tags": []
          },
          "execution_count": 27
        }
      ]
    },
    {
      "cell_type": "code",
      "metadata": {
        "id": "mI1VxPwCnvyT",
        "colab_type": "code",
        "colab": {
          "base_uri": "https://localhost:8080/",
          "height": 204
        },
        "outputId": "558c78a1-13e5-4e7c-cbf7-720abb575a1b"
      },
      "source": [
        "df.tail()"
      ],
      "execution_count": null,
      "outputs": [
        {
          "output_type": "execute_result",
          "data": {
            "text/html": [
              "<div>\n",
              "<style scoped>\n",
              "    .dataframe tbody tr th:only-of-type {\n",
              "        vertical-align: middle;\n",
              "    }\n",
              "\n",
              "    .dataframe tbody tr th {\n",
              "        vertical-align: top;\n",
              "    }\n",
              "\n",
              "    .dataframe thead th {\n",
              "        text-align: right;\n",
              "    }\n",
              "</style>\n",
              "<table border=\"1\" class=\"dataframe\">\n",
              "  <thead>\n",
              "    <tr style=\"text-align: right;\">\n",
              "      <th></th>\n",
              "      <th>paragraph</th>\n",
              "      <th>category</th>\n",
              "    </tr>\n",
              "  </thead>\n",
              "  <tbody>\n",
              "    <tr>\n",
              "      <th>15</th>\n",
              "      <td>the perseyside outfit finished in fourth place...</td>\n",
              "      <td>sports</td>\n",
              "    </tr>\n",
              "    <tr>\n",
              "      <th>16</th>\n",
              "      <td>liverpool fc will return to premier league act...</td>\n",
              "      <td>sports</td>\n",
              "    </tr>\n",
              "    <tr>\n",
              "      <th>17</th>\n",
              "      <td>alisson signed for liverpool fc from as roma t...</td>\n",
              "      <td>sports</td>\n",
              "    </tr>\n",
              "    <tr>\n",
              "      <th>18</th>\n",
              "      <td>but the rankings during that run-in to new yor...</td>\n",
              "      <td>sports</td>\n",
              "    </tr>\n",
              "    <tr>\n",
              "      <th>19</th>\n",
              "      <td>then came the oh-so-familiar djokovic-nadal no...</td>\n",
              "      <td>sports</td>\n",
              "    </tr>\n",
              "  </tbody>\n",
              "</table>\n",
              "</div>"
            ],
            "text/plain": [
              "                                            paragraph category\n",
              "15  the perseyside outfit finished in fourth place...   sports\n",
              "16  liverpool fc will return to premier league act...   sports\n",
              "17  alisson signed for liverpool fc from as roma t...   sports\n",
              "18  but the rankings during that run-in to new yor...   sports\n",
              "19  then came the oh-so-familiar djokovic-nadal no...   sports"
            ]
          },
          "metadata": {
            "tags": []
          },
          "execution_count": 28
        }
      ]
    },
    {
      "cell_type": "code",
      "metadata": {
        "id": "W9dHIyDrnwW6",
        "colab_type": "code",
        "colab": {
          "base_uri": "https://localhost:8080/",
          "height": 395
        },
        "outputId": "8c0cf0ff-d05e-4224-811f-c8cff7c289d1"
      },
      "source": [
        "results = set()\n",
        "df['paragraph'].str.lower().str.split().apply(results.update)"
      ],
      "execution_count": null,
      "outputs": [
        {
          "output_type": "execute_result",
          "data": {
            "text/plain": [
              "0     None\n",
              "1     None\n",
              "2     None\n",
              "3     None\n",
              "4     None\n",
              "5     None\n",
              "6     None\n",
              "7     None\n",
              "8     None\n",
              "9     None\n",
              "10    None\n",
              "11    None\n",
              "12    None\n",
              "13    None\n",
              "14    None\n",
              "15    None\n",
              "16    None\n",
              "17    None\n",
              "18    None\n",
              "19    None\n",
              "Name: paragraph, dtype: object"
            ]
          },
          "metadata": {
            "tags": []
          },
          "execution_count": 29
        }
      ]
    },
    {
      "cell_type": "code",
      "metadata": {
        "id": "qcTx-cXOnynz",
        "colab_type": "code",
        "colab": {}
      },
      "source": [
        "idx2word= dict(enumerate(results))\n",
        "word2idx = {v: k for k, v in idx2word.items()}"
      ],
      "execution_count": null,
      "outputs": []
    },
    {
      "cell_type": "code",
      "metadata": {
        "id": "GRIBf0C4ny0R",
        "colab_type": "code",
        "colab": {
          "base_uri": "https://localhost:8080/",
          "height": 35
        },
        "outputId": "ab155591-e88e-4a2c-cf2a-7ff79e9d80c2"
      },
      "source": [
        "word2idx[\"bread\"]"
      ],
      "execution_count": null,
      "outputs": [
        {
          "output_type": "execute_result",
          "data": {
            "text/plain": [
              "129"
            ]
          },
          "metadata": {
            "tags": []
          },
          "execution_count": 31
        }
      ]
    },
    {
      "cell_type": "code",
      "metadata": {
        "id": "fRa2ADJVny_k",
        "colab_type": "code",
        "colab": {}
      },
      "source": [
        "def encode_paragraph(paragraph):\n",
        "    words = paragraph.split(\" \")\n",
        "    encoded = []\n",
        "    for word in words:\n",
        "        encoded.append([word2idx[word]])\n",
        "    \n",
        "    return encoded\n",
        "\n",
        "df[\"enc_paragraph\"] = df.paragraph.apply(encode_paragraph)"
      ],
      "execution_count": null,
      "outputs": []
    },
    {
      "cell_type": "code",
      "metadata": {
        "id": "yZAjcjuHnzMw",
        "colab_type": "code",
        "colab": {}
      },
      "source": [
        "def encode_category(category):\n",
        "    if category == \"food\":\n",
        "        return [1,0]\n",
        "    else:\n",
        "        return [0,1]\n",
        "    \n",
        "df[\"enc_category\"] = df.category.apply(encode_category)"
      ],
      "execution_count": null,
      "outputs": []
    },
    {
      "cell_type": "code",
      "metadata": {
        "id": "xu7Xnemrn6M6",
        "colab_type": "code",
        "colab": {}
      },
      "source": [
        "def word_cnt(paragraph):\n",
        "    return len(paragraph.split(\" \"))\n",
        "\n",
        "df[\"seq_length\"] = df.paragraph.apply(word_cnt)"
      ],
      "execution_count": null,
      "outputs": []
    },
    {
      "cell_type": "code",
      "metadata": {
        "id": "KilH2N7rn6YR",
        "colab_type": "code",
        "colab": {
          "base_uri": "https://localhost:8080/",
          "height": 35
        },
        "outputId": "cb1c09ad-fd28-4eec-b9ee-5ed64b56f406"
      },
      "source": [
        "max_word_cnt = 0\n",
        "for row in df['paragraph']:\n",
        "    if len(row.split(\" \")) > max_word_cnt:\n",
        "        max_word_cnt = len(row.split(\" \"))\n",
        "\n",
        "print (max_word_cnt)"
      ],
      "execution_count": null,
      "outputs": [
        {
          "output_type": "stream",
          "text": [
            "91\n"
          ],
          "name": "stdout"
        }
      ]
    },
    {
      "cell_type": "code",
      "metadata": {
        "id": "5JZc58UQn6ly",
        "colab_type": "code",
        "colab": {}
      },
      "source": [
        "def sequence_padding(enc_paragraph):\n",
        "    seq_length = len(enc_paragraph)\n",
        "    for i in range(seq_length,max_word_cnt):\n",
        "        enc_paragraph.append([-1])\n",
        "    \n",
        "    return enc_paragraph\n",
        "\n",
        "df[\"enc_paragraph\"] = df.enc_paragraph.apply(sequence_padding)"
      ],
      "execution_count": null,
      "outputs": []
    },
    {
      "cell_type": "code",
      "metadata": {
        "id": "DrteoFcJn6uy",
        "colab_type": "code",
        "colab": {
          "base_uri": "https://localhost:8080/",
          "height": 55
        },
        "outputId": "4afe1ce2-ec7b-4bdf-b4ea-26f2f7277f38"
      },
      "source": [
        "print(df[\"enc_paragraph\"][0])"
      ],
      "execution_count": null,
      "outputs": [
        {
          "output_type": "stream",
          "text": [
            "[[523], [431], [358], [486], [383], [75], [184], [431], [348], [82], [329], [12], [252], [90], [270], [376], [314], [332], [511], [306], [469], [121], [326], [159], [350], [517], [254], [297], [332], [66], [218], [142], [259], [425], [185], [305], [428], [330], [186], [504], [409], [254], [474], [15], [531], [226], [205], [125], [436], [329], [464], [332], [103], [-1], [-1], [-1], [-1], [-1], [-1], [-1], [-1], [-1], [-1], [-1], [-1], [-1], [-1], [-1], [-1], [-1], [-1], [-1], [-1], [-1], [-1], [-1], [-1], [-1], [-1], [-1], [-1], [-1], [-1], [-1], [-1], [-1], [-1], [-1], [-1], [-1], [-1]]\n"
          ],
          "name": "stdout"
        }
      ]
    },
    {
      "cell_type": "code",
      "metadata": {
        "id": "ao0NpKVin67K",
        "colab_type": "code",
        "colab": {
          "base_uri": "https://localhost:8080/",
          "height": 1000
        },
        "outputId": "8ba0b94d-fff1-4b17-d8ea-e2194ce79bfd"
      },
      "source": [
        "df.head(20)"
      ],
      "execution_count": null,
      "outputs": [
        {
          "output_type": "execute_result",
          "data": {
            "text/html": [
              "<div>\n",
              "<style scoped>\n",
              "    .dataframe tbody tr th:only-of-type {\n",
              "        vertical-align: middle;\n",
              "    }\n",
              "\n",
              "    .dataframe tbody tr th {\n",
              "        vertical-align: top;\n",
              "    }\n",
              "\n",
              "    .dataframe thead th {\n",
              "        text-align: right;\n",
              "    }\n",
              "</style>\n",
              "<table border=\"1\" class=\"dataframe\">\n",
              "  <thead>\n",
              "    <tr style=\"text-align: right;\">\n",
              "      <th></th>\n",
              "      <th>paragraph</th>\n",
              "      <th>category</th>\n",
              "      <th>enc_paragraph</th>\n",
              "      <th>enc_category</th>\n",
              "      <th>seq_length</th>\n",
              "    </tr>\n",
              "  </thead>\n",
              "  <tbody>\n",
              "    <tr>\n",
              "      <th>0</th>\n",
              "      <td>dishplace is located in sunnyvale downtown the...</td>\n",
              "      <td>food</td>\n",
              "      <td>[[523], [431], [358], [486], [383], [75], [184...</td>\n",
              "      <td>[1, 0]</td>\n",
              "      <td>53</td>\n",
              "    </tr>\n",
              "    <tr>\n",
              "      <th>1</th>\n",
              "      <td>service can be slower during busy hours but ou...</td>\n",
              "      <td>food</td>\n",
              "      <td>[[8], [270], [376], [245], [306], [504], [326]...</td>\n",
              "      <td>[1, 0]</td>\n",
              "      <td>19</td>\n",
              "    </tr>\n",
              "    <tr>\n",
              "      <th>2</th>\n",
              "      <td>portions are huge both french toast and their ...</td>\n",
              "      <td>food</td>\n",
              "      <td>[[392], [299], [311], [480], [333], [302], [51...</td>\n",
              "      <td>[1, 0]</td>\n",
              "      <td>42</td>\n",
              "    </tr>\n",
              "    <tr>\n",
              "      <th>3</th>\n",
              "      <td>we started with apps going the chicken and waf...</td>\n",
              "      <td>food</td>\n",
              "      <td>[[444], [438], [261], [164], [151], [329], [37...</td>\n",
              "      <td>[1, 0]</td>\n",
              "      <td>43</td>\n",
              "    </tr>\n",
              "    <tr>\n",
              "      <th>4</th>\n",
              "      <td>the biscuits and gravy was too salty two peopl...</td>\n",
              "      <td>food</td>\n",
              "      <td>[[329], [437], [517], [58], [227], [53], [60],...</td>\n",
              "      <td>[1, 0]</td>\n",
              "      <td>82</td>\n",
              "    </tr>\n",
              "    <tr>\n",
              "      <th>5</th>\n",
              "      <td>the garlic fries were a great starter (and a h...</td>\n",
              "      <td>food</td>\n",
              "      <td>[[329], [118], [525], [330], [185], [356], [44...</td>\n",
              "      <td>[1, 0]</td>\n",
              "      <td>24</td>\n",
              "    </tr>\n",
              "    <tr>\n",
              "      <th>6</th>\n",
              "      <td>our meal was excellent i had the pasta ai form...</td>\n",
              "      <td>food</td>\n",
              "      <td>[[340], [396], [227], [10], [254], [372], [329...</td>\n",
              "      <td>[1, 0]</td>\n",
              "      <td>50</td>\n",
              "    </tr>\n",
              "    <tr>\n",
              "      <th>7</th>\n",
              "      <td>what i enjoy most about palo alto is so many r...</td>\n",
              "      <td>food</td>\n",
              "      <td>[[410], [254], [130], [368], [25], [390], [172...</td>\n",
              "      <td>[1, 0]</td>\n",
              "      <td>43</td>\n",
              "    </tr>\n",
              "    <tr>\n",
              "      <th>8</th>\n",
              "      <td>the drinks came out fairly quickly a good two ...</td>\n",
              "      <td>food</td>\n",
              "      <td>[[329], [59], [297], [487], [260], [353], [185...</td>\n",
              "      <td>[1, 0]</td>\n",
              "      <td>49</td>\n",
              "    </tr>\n",
              "    <tr>\n",
              "      <th>9</th>\n",
              "      <td>despite the not so good burger the service was...</td>\n",
              "      <td>food</td>\n",
              "      <td>[[237], [329], [352], [409], [274], [467], [32...</td>\n",
              "      <td>[1, 0]</td>\n",
              "      <td>82</td>\n",
              "    </tr>\n",
              "    <tr>\n",
              "      <th>10</th>\n",
              "      <td>the four reigning major champions simona halep...</td>\n",
              "      <td>sports</td>\n",
              "      <td>[[329], [133], [40], [338], [43], [498], [112]...</td>\n",
              "      <td>[0, 1]</td>\n",
              "      <td>65</td>\n",
              "    </tr>\n",
              "    <tr>\n",
              "      <th>11</th>\n",
              "      <td>the briton was seeded nn7 here last year befor...</td>\n",
              "      <td>sports</td>\n",
              "      <td>[[329], [38], [227], [202], [341], [110], [399...</td>\n",
              "      <td>[0, 1]</td>\n",
              "      <td>88</td>\n",
              "    </tr>\n",
              "    <tr>\n",
              "      <th>12</th>\n",
              "      <td>stephens surged her way back from injury in st...</td>\n",
              "      <td>sports</td>\n",
              "      <td>[[516], [381], [492], [163], [179], [146], [48...</td>\n",
              "      <td>[0, 1]</td>\n",
              "      <td>91</td>\n",
              "    </tr>\n",
              "    <tr>\n",
              "      <th>13</th>\n",
              "      <td>when it came to england chances in the world c...</td>\n",
              "      <td>sports</td>\n",
              "      <td>[[182], [90], [297], [332], [152], [478], [486...</td>\n",
              "      <td>[0, 1]</td>\n",
              "      <td>71</td>\n",
              "    </tr>\n",
              "    <tr>\n",
              "      <th>14</th>\n",
              "      <td>the team that eliminated russia – croatia – al...</td>\n",
              "      <td>sports</td>\n",
              "      <td>[[329], [373], [468], [171], [209], [339], [42...</td>\n",
              "      <td>[0, 1]</td>\n",
              "      <td>70</td>\n",
              "    </tr>\n",
              "    <tr>\n",
              "      <th>15</th>\n",
              "      <td>the perseyside outfit finished in fourth place...</td>\n",
              "      <td>sports</td>\n",
              "      <td>[[329], [402], [233], [406], [486], [282], [21...</td>\n",
              "      <td>[0, 1]</td>\n",
              "      <td>30</td>\n",
              "    </tr>\n",
              "    <tr>\n",
              "      <th>16</th>\n",
              "      <td>liverpool fc will return to premier league act...</td>\n",
              "      <td>sports</td>\n",
              "      <td>[[462], [419], [100], [235], [332], [158], [37...</td>\n",
              "      <td>[0, 1]</td>\n",
              "      <td>35</td>\n",
              "    </tr>\n",
              "    <tr>\n",
              "      <th>17</th>\n",
              "      <td>alisson signed for liverpool fc from as roma t...</td>\n",
              "      <td>sports</td>\n",
              "      <td>[[384], [44], [142], [462], [419], [146], [191...</td>\n",
              "      <td>[0, 1]</td>\n",
              "      <td>30</td>\n",
              "    </tr>\n",
              "    <tr>\n",
              "      <th>18</th>\n",
              "      <td>but the rankings during that run-in to new yor...</td>\n",
              "      <td>sports</td>\n",
              "      <td>[[252], [329], [69], [306], [468], [459], [332...</td>\n",
              "      <td>[0, 1]</td>\n",
              "      <td>63</td>\n",
              "    </tr>\n",
              "    <tr>\n",
              "      <th>19</th>\n",
              "      <td>then came the oh-so-familiar djokovic-nadal no...</td>\n",
              "      <td>sports</td>\n",
              "      <td>[[204], [297], [329], [27], [57], [318], [165]...</td>\n",
              "      <td>[0, 1]</td>\n",
              "      <td>65</td>\n",
              "    </tr>\n",
              "  </tbody>\n",
              "</table>\n",
              "</div>"
            ],
            "text/plain": [
              "                                            paragraph  ... seq_length\n",
              "0   dishplace is located in sunnyvale downtown the...  ...         53\n",
              "1   service can be slower during busy hours but ou...  ...         19\n",
              "2   portions are huge both french toast and their ...  ...         42\n",
              "3   we started with apps going the chicken and waf...  ...         43\n",
              "4   the biscuits and gravy was too salty two peopl...  ...         82\n",
              "5   the garlic fries were a great starter (and a h...  ...         24\n",
              "6   our meal was excellent i had the pasta ai form...  ...         50\n",
              "7   what i enjoy most about palo alto is so many r...  ...         43\n",
              "8   the drinks came out fairly quickly a good two ...  ...         49\n",
              "9   despite the not so good burger the service was...  ...         82\n",
              "10  the four reigning major champions simona halep...  ...         65\n",
              "11  the briton was seeded nn7 here last year befor...  ...         88\n",
              "12  stephens surged her way back from injury in st...  ...         91\n",
              "13  when it came to england chances in the world c...  ...         71\n",
              "14  the team that eliminated russia – croatia – al...  ...         70\n",
              "15  the perseyside outfit finished in fourth place...  ...         30\n",
              "16  liverpool fc will return to premier league act...  ...         35\n",
              "17  alisson signed for liverpool fc from as roma t...  ...         30\n",
              "18  but the rankings during that run-in to new yor...  ...         63\n",
              "19  then came the oh-so-familiar djokovic-nadal no...  ...         65\n",
              "\n",
              "[20 rows x 5 columns]"
            ]
          },
          "metadata": {
            "tags": []
          },
          "execution_count": 38
        }
      ]
    },
    {
      "cell_type": "code",
      "metadata": {
        "id": "d9d0GLuNn7IB",
        "colab_type": "code",
        "colab": {}
      },
      "source": [
        "enc_paragraph = np.array(df.enc_paragraph.tolist())\n",
        "enc_category = np.array(df.enc_category.tolist())\n",
        "seq_length = np.array(df.seq_length.tolist())"
      ],
      "execution_count": null,
      "outputs": []
    },
    {
      "cell_type": "code",
      "metadata": {
        "id": "K5q6kCRsoCMK",
        "colab_type": "code",
        "colab": {}
      },
      "source": [
        "train_X = enc_paragraph"
      ],
      "execution_count": null,
      "outputs": []
    },
    {
      "cell_type": "code",
      "metadata": {
        "id": "8_cZCHDMoCUh",
        "colab_type": "code",
        "colab": {}
      },
      "source": [
        "train_Y = enc_category"
      ],
      "execution_count": null,
      "outputs": []
    },
    {
      "cell_type": "code",
      "metadata": {
        "id": "eQgUIB9SoCkR",
        "colab_type": "code",
        "colab": {
          "base_uri": "https://localhost:8080/",
          "height": 35
        },
        "outputId": "cebdeb9c-7687-4c3e-948c-9143eb4c8e0a"
      },
      "source": [
        "train_X.shape"
      ],
      "execution_count": null,
      "outputs": [
        {
          "output_type": "execute_result",
          "data": {
            "text/plain": [
              "(20, 91, 1)"
            ]
          },
          "metadata": {
            "tags": []
          },
          "execution_count": 42
        }
      ]
    },
    {
      "cell_type": "code",
      "metadata": {
        "id": "7mMNVenvoCsZ",
        "colab_type": "code",
        "colab": {
          "base_uri": "https://localhost:8080/",
          "height": 35
        },
        "outputId": "aaba0ce9-a1c6-4639-816b-0af291fdbea9"
      },
      "source": [
        "train_Y.shape"
      ],
      "execution_count": null,
      "outputs": [
        {
          "output_type": "execute_result",
          "data": {
            "text/plain": [
              "(20, 2)"
            ]
          },
          "metadata": {
            "tags": []
          },
          "execution_count": 43
        }
      ]
    },
    {
      "cell_type": "code",
      "metadata": {
        "id": "yQ50JkHNoIB6",
        "colab_type": "code",
        "colab": {
          "base_uri": "https://localhost:8080/",
          "height": 270
        },
        "outputId": "0268595e-c5b0-43dd-909f-150cb0a208be"
      },
      "source": [
        "Image(url= \"https://raw.githubusercontent.com/minsuk-heo/deeplearning/master/img/lstm_model_overview.png\", width=500, height=250)"
      ],
      "execution_count": null,
      "outputs": [
        {
          "output_type": "execute_result",
          "data": {
            "text/html": [
              "<img src=\"https://raw.githubusercontent.com/minsuk-heo/deeplearning/master/img/lstm_model_overview.png\" width=\"500\" height=\"250\"/>"
            ],
            "text/plain": [
              "<IPython.core.display.Image object>"
            ]
          },
          "metadata": {
            "tags": []
          },
          "execution_count": 44
        }
      ]
    },
    {
      "cell_type": "code",
      "metadata": {
        "id": "V5LCAs5moIOK",
        "colab_type": "code",
        "colab": {}
      },
      "source": [
        "tf.reset_default_graph()\n",
        "tf.set_random_seed(777)\n",
        "\n",
        "# hyperparameters\n",
        "learning_rate = 0.001\n",
        "n_epochs = 300\n",
        "\n",
        "# define input\n",
        "X = tf.placeholder(tf.float32, [None,max_word_cnt,1])\n",
        "# define output\n",
        "y = tf.placeholder(tf.int32, [None, 2])\n",
        "\n",
        "# word embedding layer\n",
        "embedding = tf.layers.dense(X, 5)\n",
        "# LSTM cell\n",
        "cell = tf.nn.rnn_cell.LSTMCell(num_units=64)\n",
        "# get output and state (we only use state in this example)\n",
        "output, state = tf.nn.dynamic_rnn(cell, embedding, dtype=tf.float32, sequence_length=seq_length)\n",
        "# state is contextual vector which is input to MLP classifier (dense layer) below\n",
        "dense_layer = tf.layers.dense(state.h, 32)\n",
        "# logit has two nodes for cross entropy with one hot encoding target\n",
        "logits = tf.layers.dense(dense_layer, 2)\n",
        "# loss function\n",
        "cross_entropy = tf.nn.softmax_cross_entropy_with_logits_v2(labels=y, logits=logits)\n",
        "loss = tf.reduce_mean(cross_entropy)\n",
        "# Adam Optimizor\n",
        "optimizer = tf.train.AdamOptimizer(learning_rate=learning_rate).minimize(loss)"
      ],
      "execution_count": null,
      "outputs": []
    },
    {
      "cell_type": "code",
      "metadata": {
        "id": "ilwSL_K_oIXS",
        "colab_type": "code",
        "colab": {
          "base_uri": "https://localhost:8080/",
          "height": 127
        },
        "outputId": "608357cc-6318-4847-d589-ca52a3aafef7"
      },
      "source": [
        "print(X)\n",
        "print(embedding)\n",
        "print(state)\n",
        "print(dense_layer)\n",
        "print(logits)"
      ],
      "execution_count": null,
      "outputs": [
        {
          "output_type": "stream",
          "text": [
            "Tensor(\"Placeholder:0\", shape=(?, 91, 1), dtype=float32)\n",
            "Tensor(\"dense/BiasAdd:0\", shape=(?, 91, 5), dtype=float32)\n",
            "LSTMStateTuple(c=<tf.Tensor 'rnn/while/Exit_3:0' shape=(?, 64) dtype=float32>, h=<tf.Tensor 'rnn/while/Exit_4:0' shape=(?, 64) dtype=float32>)\n",
            "Tensor(\"dense_1/BiasAdd:0\", shape=(?, 32), dtype=float32)\n",
            "Tensor(\"dense_2/BiasAdd:0\", shape=(?, 2), dtype=float32)\n"
          ],
          "name": "stdout"
        }
      ]
    },
    {
      "cell_type": "code",
      "metadata": {
        "id": "FQsWd7QPoKhi",
        "colab_type": "code",
        "colab": {
          "base_uri": "https://localhost:8080/",
          "height": 143
        },
        "outputId": "88c4826f-bf83-4dca-d9d4-a94dc46a65e3"
      },
      "source": [
        "# initialize the variables\n",
        "init = tf.global_variables_initializer()\n",
        "\n",
        "# Start training\n",
        "with tf.Session() as sess:\n",
        "    # Run the initializer\n",
        "    sess.run(init)\n",
        "    for epoch in range(1, n_epochs+1):\n",
        "        sess.run(optimizer, feed_dict={X: train_X, y: train_Y})\n",
        "        train_loss = sess.run(loss, feed_dict={X: train_X, y: train_Y})\n",
        "\n",
        "        if epoch == 1 or epoch % 50 == 0:\n",
        "            preds = tf.nn.softmax(logits)  # Apply softmax to logits\n",
        "            correct_prediction = tf.equal(tf.argmax(preds, 1), tf.argmax(y, 1))\n",
        "            # Calculate accuracy\n",
        "            accuracy = tf.reduce_mean(tf.cast(correct_prediction, \"float\"))\n",
        "            cur_acc = accuracy.eval({X: train_X, y: train_Y})\n",
        "            print(\"epoch: \"+ str(epoch)+\", loss: \"+str(train_loss)+\", accuracy: \"+str(cur_acc))"
      ],
      "execution_count": null,
      "outputs": [
        {
          "output_type": "stream",
          "text": [
            "epoch: 1, loss: 0.65689236, accuracy: 0.7\n",
            "epoch: 50, loss: 0.27405286, accuracy: 0.9\n",
            "epoch: 100, loss: 0.09770798, accuracy: 0.95\n",
            "epoch: 150, loss: 0.04368843, accuracy: 1.0\n",
            "epoch: 200, loss: 0.0077113556, accuracy: 1.0\n",
            "epoch: 250, loss: 0.0035274338, accuracy: 1.0\n",
            "epoch: 300, loss: 0.0020983843, accuracy: 1.0\n"
          ],
          "name": "stdout"
        }
      ]
    }
  ]
}