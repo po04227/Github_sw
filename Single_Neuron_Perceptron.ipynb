{
  "nbformat": 4,
  "nbformat_minor": 0,
  "metadata": {
    "colab": {
      "name": "Single_Neuron_Perceptron.ipynb",
      "provenance": [],
      "authorship_tag": "ABX9TyP2scKoGTF8GU7ZHX0PKn12",
      "include_colab_link": true
    },
    "kernelspec": {
      "name": "python3",
      "display_name": "Python 3"
    }
  },
  "cells": [
    {
      "cell_type": "markdown",
      "metadata": {
        "id": "view-in-github",
        "colab_type": "text"
      },
      "source": [
        "<a href=\"https://colab.research.google.com/github/po04227/Github_sw/blob/master/Single_Neuron_Perceptron.ipynb\" target=\"_parent\"><img src=\"https://colab.research.google.com/assets/colab-badge.svg\" alt=\"Open In Colab\"/></a>"
      ]
    },
    {
      "cell_type": "code",
      "metadata": {
        "id": "1H1d7mgBjiXR",
        "colab_type": "code",
        "colab": {}
      },
      "source": [
        "import tensorflow as tf\n",
        "tf.compat.v1.disable_eager_execution()"
      ],
      "execution_count": 91,
      "outputs": []
    },
    {
      "cell_type": "code",
      "metadata": {
        "id": "4GpWOdVYvYsP",
        "colab_type": "code",
        "colab": {}
      },
      "source": [
        "# Constants\n",
        "T = 1.0\n",
        "F = 0.0\n",
        "bias = 1.0"
      ],
      "execution_count": 92,
      "outputs": []
    },
    {
      "cell_type": "code",
      "metadata": {
        "id": "ZUyoNH9qvY0z",
        "colab_type": "code",
        "colab": {}
      },
      "source": [
        "# Collect Data\n",
        "\n",
        "def get_AND_data():\n",
        "    X = [\n",
        "    [F, F, bias],\n",
        "    [F, T, bias],\n",
        "    [T, F, bias],\n",
        "    [T, T, bias]\n",
        "    ]\n",
        "    \n",
        "    Y = [\n",
        "        [F],\n",
        "        [F],\n",
        "        [F],\n",
        "        [T]\n",
        "    ]\n",
        "    \n",
        "    return X, Y\n",
        "\n",
        "def get_OR_data():\n",
        "    X = [\n",
        "    [F, F, bias],\n",
        "    [F, T, bias],\n",
        "    [T, F, bias],\n",
        "    [T, T, bias]\n",
        "    ]\n",
        "    \n",
        "    Y = [\n",
        "        [F],\n",
        "        [T],\n",
        "        [T],\n",
        "        [T]\n",
        "    ]\n",
        "    \n",
        "    return X, Y\n",
        "\n",
        "def get_XOR_data():\n",
        "    X = [\n",
        "    [F, F, bias],\n",
        "    [F, T, bias],\n",
        "    [T, F, bias],\n",
        "    [T, T, bias]\n",
        "    ]\n",
        "    \n",
        "    Y = [\n",
        "        [F],\n",
        "        [T],\n",
        "        [T],\n",
        "        [F]\n",
        "    ]\n",
        "    \n",
        "    return X, Y"
      ],
      "execution_count": 93,
      "outputs": []
    },
    {
      "cell_type": "code",
      "metadata": {
        "id": "mjEPnXl4vY8e",
        "colab_type": "code",
        "colab": {}
      },
      "source": [
        "X, Y = get_AND_data()\n",
        "#X, Y = get_OR_data()\n",
        "#X, Y = get_XOR_data()"
      ],
      "execution_count": 94,
      "outputs": []
    },
    {
      "cell_type": "code",
      "metadata": {
        "id": "r5IL00WSvZD3",
        "colab_type": "code",
        "colab": {}
      },
      "source": [
        "# Initialize weights\n",
        "W = tf.Variable(tf.random.normal([3, 1]))"
      ],
      "execution_count": 95,
      "outputs": []
    },
    {
      "cell_type": "code",
      "metadata": {
        "id": "IXw_JUkKvZK4",
        "colab_type": "code",
        "colab": {}
      },
      "source": [
        "# Activation Function\n",
        "def step(x):\n",
        "    return tf.cast(tf.greater(x, 0), dtype=tf.float32)"
      ],
      "execution_count": 96,
      "outputs": []
    },
    {
      "cell_type": "code",
      "metadata": {
        "id": "-VGmKfEFvZRQ",
        "colab_type": "code",
        "colab": {}
      },
      "source": [
        "# Loss Function\n",
        "f = tf.matmul(X, W)\n",
        "output = step(f)\n",
        "error = tf.subtract(Y, output)\n",
        "mse = tf.reduce_mean(tf.square(error))"
      ],
      "execution_count": 97,
      "outputs": []
    },
    {
      "cell_type": "code",
      "metadata": {
        "id": "_Gyc7XJ8vZYg",
        "colab_type": "code",
        "colab": {}
      },
      "source": [
        "# Optimize weights\n",
        "delta = tf.matmul(X, error, transpose_a=True)\n",
        "train = tf.compat.v1.assign(W, tf.add(W, delta))"
      ],
      "execution_count": 98,
      "outputs": []
    },
    {
      "cell_type": "code",
      "metadata": {
        "id": "9AgZleCXwCHa",
        "colab_type": "code",
        "colab": {
          "base_uri": "https://localhost:8080/",
          "height": 251
        },
        "outputId": "198b3bc2-1fac-42ba-8dfa-194d0a5025be"
      },
      "source": [
        "# Training and Testing\n",
        "# Initialize the variables (i.e. assign their default value)\n",
        "init = tf.compat.v1.global_variables_initializer()\n",
        "\n",
        "# Start training\n",
        "with tf.compat.v1.Session() as sess:\n",
        "    # Run the initializer\n",
        "    sess.run(init)\n",
        "    err = 1\n",
        "    epoch, max_epochs = 0, 20\n",
        "    while err > 0.0 and epoch < max_epochs:\n",
        "        epoch += 1\n",
        "        err = sess.run(mse)\n",
        "        sess.run(train)\n",
        "        print('epoch:', epoch, 'mse:', err)\n",
        "        \n",
        "    print(\"\\nTesting Result:\")\n",
        "    print(sess.run([output]))"
      ],
      "execution_count": 99,
      "outputs": [
        {
          "output_type": "stream",
          "text": [
            "epoch: 1 mse: 0.75\n",
            "epoch: 2 mse: 0.25\n",
            "epoch: 3 mse: 0.25\n",
            "epoch: 4 mse: 0.25\n",
            "epoch: 5 mse: 0.5\n",
            "epoch: 6 mse: 0.25\n",
            "epoch: 7 mse: 0.0\n",
            "\n",
            "Testing Result:\n",
            "[array([[0.],\n",
            "       [0.],\n",
            "       [0.],\n",
            "       [1.]], dtype=float32)]\n"
          ],
          "name": "stdout"
        }
      ]
    },
    {
      "cell_type": "code",
      "metadata": {
        "id": "Cf9nPBRUvZfI",
        "colab_type": "code",
        "colab": {}
      },
      "source": [
        ""
      ],
      "execution_count": 99,
      "outputs": []
    },
    {
      "cell_type": "code",
      "metadata": {
        "id": "CyPD3oAvvZli",
        "colab_type": "code",
        "colab": {}
      },
      "source": [
        ""
      ],
      "execution_count": 99,
      "outputs": []
    },
    {
      "cell_type": "code",
      "metadata": {
        "id": "I_Q3MzFYvZrt",
        "colab_type": "code",
        "colab": {}
      },
      "source": [
        ""
      ],
      "execution_count": 99,
      "outputs": []
    },
    {
      "cell_type": "code",
      "metadata": {
        "id": "wOyq1NoivZyP",
        "colab_type": "code",
        "colab": {}
      },
      "source": [
        ""
      ],
      "execution_count": 99,
      "outputs": []
    },
    {
      "cell_type": "code",
      "metadata": {
        "id": "kXHbhQ4tvZ4u",
        "colab_type": "code",
        "colab": {}
      },
      "source": [
        ""
      ],
      "execution_count": 99,
      "outputs": []
    },
    {
      "cell_type": "code",
      "metadata": {
        "id": "FSCiebHVvaAO",
        "colab_type": "code",
        "colab": {}
      },
      "source": [
        ""
      ],
      "execution_count": 99,
      "outputs": []
    },
    {
      "cell_type": "code",
      "metadata": {
        "id": "sX3C6A_xvaIg",
        "colab_type": "code",
        "colab": {}
      },
      "source": [
        ""
      ],
      "execution_count": 99,
      "outputs": []
    },
    {
      "cell_type": "code",
      "metadata": {
        "id": "vtb6zH3UvaPN",
        "colab_type": "code",
        "colab": {}
      },
      "source": [
        ""
      ],
      "execution_count": 99,
      "outputs": []
    },
    {
      "cell_type": "code",
      "metadata": {
        "id": "Cqcyc1sxvaVe",
        "colab_type": "code",
        "colab": {}
      },
      "source": [
        ""
      ],
      "execution_count": 99,
      "outputs": []
    }
  ]
}