{
  "nbformat": 4,
  "nbformat_minor": 0,
  "metadata": {
    "colab": {
      "name": "MLP_MNIST_Tensorflow_Early_Stopping_DropOut.ipynb",
      "provenance": [],
      "collapsed_sections": [],
      "authorship_tag": "ABX9TyMknh90Hnc3/UD4DzeG/8Po",
      "include_colab_link": true
    },
    "kernelspec": {
      "name": "python3",
      "display_name": "Python 3"
    }
  },
  "cells": [
    {
      "cell_type": "markdown",
      "metadata": {
        "id": "view-in-github",
        "colab_type": "text"
      },
      "source": [
        "<a href=\"https://colab.research.google.com/github/po04227/Github_sw/blob/master/MLP_MNIST_Tensorflow_Early_Stopping_DropOut.ipynb\" target=\"_parent\"><img src=\"https://colab.research.google.com/assets/colab-badge.svg\" alt=\"Open In Colab\"/></a>"
      ]
    },
    {
      "cell_type": "code",
      "metadata": {
        "id": "AR8YOBpp2svc",
        "colab_type": "code",
        "colab": {}
      },
      "source": [
        "import tensorflow as tf\n",
        "tf.compat.v1.disable_eager_execution()\n",
        "\n",
        "import numpy as np\n",
        "from IPython.display import Image"
      ],
      "execution_count": null,
      "outputs": []
    },
    {
      "cell_type": "code",
      "metadata": {
        "id": "JbIvpo3G27nM",
        "colab_type": "code",
        "colab": {
          "base_uri": "https://localhost:8080/",
          "height": 270
        },
        "outputId": "78bc97aa-d985-4115-8acb-5fda600187c8"
      },
      "source": [
        "# MLP Architecture\n",
        "Image(url= \"https://raw.githubusercontent.com/minsuk-heo/deeplearning/master/img/dropout.png\", width=500, height=250)"
      ],
      "execution_count": null,
      "outputs": [
        {
          "output_type": "execute_result",
          "data": {
            "text/html": [
              "<img src=\"https://raw.githubusercontent.com/minsuk-heo/deeplearning/master/img/dropout.png\" width=\"500\" height=\"250\"/>"
            ],
            "text/plain": [
              "<IPython.core.display.Image object>"
            ]
          },
          "metadata": {
            "tags": []
          },
          "execution_count": 26
        }
      ]
    },
    {
      "cell_type": "code",
      "metadata": {
        "id": "zYSqU4py27uS",
        "colab_type": "code",
        "colab": {
          "base_uri": "https://localhost:8080/",
          "height": 53
        },
        "outputId": "b1928c46-94c7-4e23-908a-d3208a6d7b9e"
      },
      "source": [
        "# Collect MNIST Data\n",
        "(x_train, y_train), (x_test, y_test) = tf.keras.datasets.mnist.load_data()\n",
        "\n",
        "print(x_train.shape)\n",
        "print(x_test.shape)"
      ],
      "execution_count": null,
      "outputs": [
        {
          "output_type": "stream",
          "text": [
            "(60000, 28, 28)\n",
            "(10000, 28, 28)\n"
          ],
          "name": "stdout"
        }
      ]
    },
    {
      "cell_type": "code",
      "metadata": {
        "id": "SO7pTfX3271R",
        "colab_type": "code",
        "colab": {}
      },
      "source": [
        "# Split train data into train and validation data\n",
        "x_val  = x_train[50000:60000]\n",
        "x_train = x_train[0:50000]\n",
        "y_val  = y_train[50000:60000]\n",
        "y_train = y_train[0:50000]"
      ],
      "execution_count": null,
      "outputs": []
    },
    {
      "cell_type": "code",
      "metadata": {
        "id": "432ZiWKl278q",
        "colab_type": "code",
        "colab": {
          "base_uri": "https://localhost:8080/",
          "height": 53
        },
        "outputId": "caa747ed-10f3-4691-bdc6-a0e9f8c6ba49"
      },
      "source": [
        "print(\"train data has \" + str(x_train.shape[0]) + \" samples\")\n",
        "print(\"every train data is \" + str(x_train.shape[1]) \n",
        "      + \" * \" + str(x_train.shape[2]) + \" image\")"
      ],
      "execution_count": null,
      "outputs": [
        {
          "output_type": "stream",
          "text": [
            "train data has 50000 samples\n",
            "every train data is 28 * 28 image\n"
          ],
          "name": "stdout"
        }
      ]
    },
    {
      "cell_type": "code",
      "metadata": {
        "id": "1TAtNEIM28C4",
        "colab_type": "code",
        "colab": {
          "base_uri": "https://localhost:8080/",
          "height": 53
        },
        "outputId": "cde30774-eb14-4953-ca09-4b42ac2e8d66"
      },
      "source": [
        "print(\"validation data has \" + str(x_val.shape[0]) + \" samples\")\n",
        "print(\"every train data is \" + str(x_val.shape[1]) \n",
        "      + \" * \" + str(x_train.shape[2]) + \" image\")"
      ],
      "execution_count": null,
      "outputs": [
        {
          "output_type": "stream",
          "text": [
            "validation data has 10000 samples\n",
            "every train data is 28 * 28 image\n"
          ],
          "name": "stdout"
        }
      ]
    },
    {
      "cell_type": "code",
      "metadata": {
        "id": "HUheosnO28JY",
        "colab_type": "code",
        "colab": {
          "base_uri": "https://localhost:8080/",
          "height": 53
        },
        "outputId": "248ffb2a-56d2-4426-eb61-9ac0e41e4d6e"
      },
      "source": [
        "# sample to show gray scale values\n",
        "print(x_train[0][8])"
      ],
      "execution_count": null,
      "outputs": [
        {
          "output_type": "stream",
          "text": [
            "[  0   0   0   0   0   0   0  18 219 253 253 253 253 253 198 182 247 241\n",
            "   0   0   0   0   0   0   0   0   0   0]\n"
          ],
          "name": "stdout"
        }
      ]
    },
    {
      "cell_type": "code",
      "metadata": {
        "id": "3pnkc3Xr28QG",
        "colab_type": "code",
        "colab": {
          "base_uri": "https://localhost:8080/",
          "height": 35
        },
        "outputId": "1df854da-17d0-42bb-80ba-9fe4dc0d469d"
      },
      "source": [
        "# sample to show labels for first train data to 10th train data\n",
        "print(y_train[0:9])"
      ],
      "execution_count": null,
      "outputs": [
        {
          "output_type": "stream",
          "text": [
            "[5 0 4 1 9 2 1 3 1]\n"
          ],
          "name": "stdout"
        }
      ]
    },
    {
      "cell_type": "code",
      "metadata": {
        "id": "j9Hn4SnY28WY",
        "colab_type": "code",
        "colab": {
          "base_uri": "https://localhost:8080/",
          "height": 53
        },
        "outputId": "df354b12-0857-4d51-9cc3-d0867cfb94c5"
      },
      "source": [
        "print(\"test data has \" + str(x_test.shape[0]) + \" samples\")\n",
        "print(\"every test data is \" + str(x_test.shape[1]) \n",
        "      + \" * \" + str(x_test.shape[2]) + \" image\")"
      ],
      "execution_count": null,
      "outputs": [
        {
          "output_type": "stream",
          "text": [
            "test data has 10000 samples\n",
            "every test data is 28 * 28 image\n"
          ],
          "name": "stdout"
        }
      ]
    },
    {
      "cell_type": "code",
      "metadata": {
        "id": "YvTIJhka28dG",
        "colab_type": "code",
        "colab": {
          "base_uri": "https://localhost:8080/",
          "height": 270
        },
        "outputId": "d7a20991-6540-4d47-b878-d30332a849f1"
      },
      "source": [
        "# Reshape\n",
        "Image(url= \"https://raw.githubusercontent.com/minsuk-heo/deeplearning/master/img/reshape_mnist.png\", width=500, height=250)"
      ],
      "execution_count": null,
      "outputs": [
        {
          "output_type": "execute_result",
          "data": {
            "text/html": [
              "<img src=\"https://raw.githubusercontent.com/minsuk-heo/deeplearning/master/img/reshape_mnist.png\" width=\"500\" height=\"250\"/>"
            ],
            "text/plain": [
              "<IPython.core.display.Image object>"
            ]
          },
          "metadata": {
            "tags": []
          },
          "execution_count": 34
        }
      ]
    },
    {
      "cell_type": "code",
      "metadata": {
        "id": "c0P47Qfc28kI",
        "colab_type": "code",
        "colab": {
          "base_uri": "https://localhost:8080/",
          "height": 53
        },
        "outputId": "7ac3becf-9302-41bf-e920-c1e759f726d5"
      },
      "source": [
        "x_train = x_train.reshape(50000, 784)\n",
        "x_val = x_val.reshape(10000, 784)\n",
        "x_test = x_test.reshape(10000, 784)\n",
        "\n",
        "print(x_train.shape)\n",
        "print(x_test.shape)"
      ],
      "execution_count": null,
      "outputs": [
        {
          "output_type": "stream",
          "text": [
            "(50000, 784)\n",
            "(10000, 784)\n"
          ],
          "name": "stdout"
        }
      ]
    },
    {
      "cell_type": "code",
      "metadata": {
        "id": "S6NYGEnY28rA",
        "colab_type": "code",
        "colab": {
          "base_uri": "https://localhost:8080/",
          "height": 1000
        },
        "outputId": "28a9e2ea-a38a-4177-bf78-5cc422f31153"
      },
      "source": [
        "x_train[0]"
      ],
      "execution_count": null,
      "outputs": [
        {
          "output_type": "execute_result",
          "data": {
            "text/plain": [
              "array([  0,   0,   0,   0,   0,   0,   0,   0,   0,   0,   0,   0,   0,\n",
              "         0,   0,   0,   0,   0,   0,   0,   0,   0,   0,   0,   0,   0,\n",
              "         0,   0,   0,   0,   0,   0,   0,   0,   0,   0,   0,   0,   0,\n",
              "         0,   0,   0,   0,   0,   0,   0,   0,   0,   0,   0,   0,   0,\n",
              "         0,   0,   0,   0,   0,   0,   0,   0,   0,   0,   0,   0,   0,\n",
              "         0,   0,   0,   0,   0,   0,   0,   0,   0,   0,   0,   0,   0,\n",
              "         0,   0,   0,   0,   0,   0,   0,   0,   0,   0,   0,   0,   0,\n",
              "         0,   0,   0,   0,   0,   0,   0,   0,   0,   0,   0,   0,   0,\n",
              "         0,   0,   0,   0,   0,   0,   0,   0,   0,   0,   0,   0,   0,\n",
              "         0,   0,   0,   0,   0,   0,   0,   0,   0,   0,   0,   0,   0,\n",
              "         0,   0,   0,   0,   0,   0,   0,   0,   0,   0,   0,   0,   0,\n",
              "         0,   0,   0,   0,   0,   0,   0,   0,   0,   3,  18,  18,  18,\n",
              "       126, 136, 175,  26, 166, 255, 247, 127,   0,   0,   0,   0,   0,\n",
              "         0,   0,   0,   0,   0,   0,   0,  30,  36,  94, 154, 170, 253,\n",
              "       253, 253, 253, 253, 225, 172, 253, 242, 195,  64,   0,   0,   0,\n",
              "         0,   0,   0,   0,   0,   0,   0,   0,  49, 238, 253, 253, 253,\n",
              "       253, 253, 253, 253, 253, 251,  93,  82,  82,  56,  39,   0,   0,\n",
              "         0,   0,   0,   0,   0,   0,   0,   0,   0,   0,  18, 219, 253,\n",
              "       253, 253, 253, 253, 198, 182, 247, 241,   0,   0,   0,   0,   0,\n",
              "         0,   0,   0,   0,   0,   0,   0,   0,   0,   0,   0,   0,   0,\n",
              "        80, 156, 107, 253, 253, 205,  11,   0,  43, 154,   0,   0,   0,\n",
              "         0,   0,   0,   0,   0,   0,   0,   0,   0,   0,   0,   0,   0,\n",
              "         0,   0,   0,  14,   1, 154, 253,  90,   0,   0,   0,   0,   0,\n",
              "         0,   0,   0,   0,   0,   0,   0,   0,   0,   0,   0,   0,   0,\n",
              "         0,   0,   0,   0,   0,   0,   0, 139, 253, 190,   2,   0,   0,\n",
              "         0,   0,   0,   0,   0,   0,   0,   0,   0,   0,   0,   0,   0,\n",
              "         0,   0,   0,   0,   0,   0,   0,   0,   0,  11, 190, 253,  70,\n",
              "         0,   0,   0,   0,   0,   0,   0,   0,   0,   0,   0,   0,   0,\n",
              "         0,   0,   0,   0,   0,   0,   0,   0,   0,   0,   0,   0,  35,\n",
              "       241, 225, 160, 108,   1,   0,   0,   0,   0,   0,   0,   0,   0,\n",
              "         0,   0,   0,   0,   0,   0,   0,   0,   0,   0,   0,   0,   0,\n",
              "         0,   0,  81, 240, 253, 253, 119,  25,   0,   0,   0,   0,   0,\n",
              "         0,   0,   0,   0,   0,   0,   0,   0,   0,   0,   0,   0,   0,\n",
              "         0,   0,   0,   0,   0,  45, 186, 253, 253, 150,  27,   0,   0,\n",
              "         0,   0,   0,   0,   0,   0,   0,   0,   0,   0,   0,   0,   0,\n",
              "         0,   0,   0,   0,   0,   0,   0,   0,  16,  93, 252, 253, 187,\n",
              "         0,   0,   0,   0,   0,   0,   0,   0,   0,   0,   0,   0,   0,\n",
              "         0,   0,   0,   0,   0,   0,   0,   0,   0,   0,   0,   0, 249,\n",
              "       253, 249,  64,   0,   0,   0,   0,   0,   0,   0,   0,   0,   0,\n",
              "         0,   0,   0,   0,   0,   0,   0,   0,   0,   0,   0,  46, 130,\n",
              "       183, 253, 253, 207,   2,   0,   0,   0,   0,   0,   0,   0,   0,\n",
              "         0,   0,   0,   0,   0,   0,   0,   0,   0,   0,   0,  39, 148,\n",
              "       229, 253, 253, 253, 250, 182,   0,   0,   0,   0,   0,   0,   0,\n",
              "         0,   0,   0,   0,   0,   0,   0,   0,   0,   0,   0,  24, 114,\n",
              "       221, 253, 253, 253, 253, 201,  78,   0,   0,   0,   0,   0,   0,\n",
              "         0,   0,   0,   0,   0,   0,   0,   0,   0,   0,   0,  23,  66,\n",
              "       213, 253, 253, 253, 253, 198,  81,   2,   0,   0,   0,   0,   0,\n",
              "         0,   0,   0,   0,   0,   0,   0,   0,   0,   0,   0,  18, 171,\n",
              "       219, 253, 253, 253, 253, 195,  80,   9,   0,   0,   0,   0,   0,\n",
              "         0,   0,   0,   0,   0,   0,   0,   0,   0,   0,   0,  55, 172,\n",
              "       226, 253, 253, 253, 253, 244, 133,  11,   0,   0,   0,   0,   0,\n",
              "         0,   0,   0,   0,   0,   0,   0,   0,   0,   0,   0,   0,   0,\n",
              "       136, 253, 253, 253, 212, 135, 132,  16,   0,   0,   0,   0,   0,\n",
              "         0,   0,   0,   0,   0,   0,   0,   0,   0,   0,   0,   0,   0,\n",
              "         0,   0,   0,   0,   0,   0,   0,   0,   0,   0,   0,   0,   0,\n",
              "         0,   0,   0,   0,   0,   0,   0,   0,   0,   0,   0,   0,   0,\n",
              "         0,   0,   0,   0,   0,   0,   0,   0,   0,   0,   0,   0,   0,\n",
              "         0,   0,   0,   0,   0,   0,   0,   0,   0,   0,   0,   0,   0,\n",
              "         0,   0,   0,   0,   0,   0,   0,   0,   0,   0,   0,   0,   0,\n",
              "         0,   0,   0,   0,   0,   0,   0,   0,   0,   0,   0,   0,   0,\n",
              "         0,   0,   0,   0], dtype=uint8)"
            ]
          },
          "metadata": {
            "tags": []
          },
          "execution_count": 36
        }
      ]
    },
    {
      "cell_type": "code",
      "metadata": {
        "id": "2UDD3xGy28xO",
        "colab_type": "code",
        "colab": {}
      },
      "source": [
        "# Normalize data\n",
        "x_train = x_train.astype('float32')\n",
        "x_val = x_val.astype('float32')\n",
        "x_test = x_test.astype('float32')\n",
        "\n",
        "gray_scale = 255\n",
        "x_train /= gray_scale\n",
        "x_val /= gray_scale\n",
        "x_test /= gray_scale"
      ],
      "execution_count": null,
      "outputs": []
    },
    {
      "cell_type": "code",
      "metadata": {
        "id": "Zcx3dt1X283m",
        "colab_type": "code",
        "colab": {
          "base_uri": "https://localhost:8080/",
          "height": 143
        },
        "outputId": "d4f6ec63-600c-450e-8fed-e496ac5f33a8"
      },
      "source": [
        "# label to one hot encoding value\n",
        "num_classes = 10\n",
        "y_train = tf.keras.utils.to_categorical(y_train, num_classes)\n",
        "y_val = tf.keras.utils.to_categorical(y_val, num_classes)\n",
        "y_test = tf.keras.utils.to_categorical(y_test, num_classes)\n",
        "\n",
        "y_train"
      ],
      "execution_count": null,
      "outputs": [
        {
          "output_type": "execute_result",
          "data": {
            "text/plain": [
              "array([[0., 0., 0., ..., 0., 0., 0.],\n",
              "       [1., 0., 0., ..., 0., 0., 0.],\n",
              "       [0., 0., 0., ..., 0., 0., 0.],\n",
              "       ...,\n",
              "       [0., 0., 0., ..., 0., 1., 0.],\n",
              "       [0., 0., 0., ..., 0., 0., 0.],\n",
              "       [0., 0., 0., ..., 0., 1., 0.]], dtype=float32)"
            ]
          },
          "metadata": {
            "tags": []
          },
          "execution_count": 38
        }
      ]
    },
    {
      "cell_type": "code",
      "metadata": {
        "id": "TYX0Ospx28-w",
        "colab_type": "code",
        "colab": {
          "base_uri": "https://localhost:8080/",
          "height": 270
        },
        "outputId": "7ac6dd36-582b-43dc-98d2-7cdf83600390"
      },
      "source": [
        "# Tensorflow MLP Graph\n",
        "Image(url= \"https://raw.githubusercontent.com/minsuk-heo/deeplearning/master/img/simple_mlp_mnist.png\", width=500, height=250)"
      ],
      "execution_count": null,
      "outputs": [
        {
          "output_type": "execute_result",
          "data": {
            "text/html": [
              "<img src=\"https://raw.githubusercontent.com/minsuk-heo/deeplearning/master/img/simple_mlp_mnist.png\" width=\"500\" height=\"250\"/>"
            ],
            "text/plain": [
              "<IPython.core.display.Image object>"
            ]
          },
          "metadata": {
            "tags": []
          },
          "execution_count": 39
        }
      ]
    },
    {
      "cell_type": "code",
      "metadata": {
        "id": "s1DbiqH229FX",
        "colab_type": "code",
        "colab": {}
      },
      "source": [
        "# Drop Out\n",
        "x = tf.placeholder(tf.float32, [None, 784])\n",
        "y = tf.placeholder(tf.float32, [None, 10])\n",
        "keep_prob = tf.placeholder(tf.float32)"
      ],
      "execution_count": null,
      "outputs": []
    },
    {
      "cell_type": "code",
      "metadata": {
        "id": "Z6GaGdRr29LX",
        "colab_type": "code",
        "colab": {}
      },
      "source": [
        "def mlp(x):\n",
        "    # hidden layer1\n",
        "    w1 = tf.Variable(tf.random_uniform([784,256]))\n",
        "    b1 = tf.Variable(tf.zeros([256]))\n",
        "    h1 = tf.nn.relu(tf.matmul(x, w1) + b1)\n",
        "    # hidden layer2\n",
        "    w2 = tf.Variable(tf.random_uniform([256,128]))\n",
        "    b2 = tf.Variable(tf.zeros([128]))\n",
        "    h2 = tf.nn.relu(tf.matmul(h1, w2) + b2)\n",
        "    h2_drop = tf.nn.dropout(h2, keep_prob)\n",
        "    # output layer\n",
        "    w3 = tf.Variable(tf.random_uniform([128,10]))\n",
        "    b3 = tf.Variable(tf.zeros([10]))\n",
        "    logits= tf.matmul(h2_drop, w3) + b3\n",
        "    \n",
        "    return logits"
      ],
      "execution_count": null,
      "outputs": []
    },
    {
      "cell_type": "code",
      "metadata": {
        "id": "_IArjEU-29RG",
        "colab_type": "code",
        "colab": {}
      },
      "source": [
        "logits = mlp(x)"
      ],
      "execution_count": null,
      "outputs": []
    },
    {
      "cell_type": "code",
      "metadata": {
        "id": "306c0xTe3uaA",
        "colab_type": "code",
        "colab": {}
      },
      "source": [
        "loss_op = tf.reduce_mean(tf.nn.softmax_cross_entropy_with_logits_v2(\n",
        "    logits=logits, labels=y))"
      ],
      "execution_count": null,
      "outputs": []
    },
    {
      "cell_type": "code",
      "metadata": {
        "id": "FlccGhOA3ujP",
        "colab_type": "code",
        "colab": {}
      },
      "source": [
        "train_op = tf.train.AdamOptimizer(learning_rate=0.01).minimize(loss_op)"
      ],
      "execution_count": null,
      "outputs": []
    },
    {
      "cell_type": "code",
      "metadata": {
        "id": "SGCcU5mQ3upO",
        "colab_type": "code",
        "colab": {
          "base_uri": "https://localhost:8080/",
          "height": 270
        },
        "outputId": "bf5a5f6b-67f5-4ee8-b6e4-e0f137dd8f12"
      },
      "source": [
        "# Early Stopping\n",
        "Image(url= \"https://raw.githubusercontent.com/minsuk-heo/deeplearning/master/img/early_stop.png\", width=500, height=250)"
      ],
      "execution_count": null,
      "outputs": [
        {
          "output_type": "execute_result",
          "data": {
            "text/html": [
              "<img src=\"https://raw.githubusercontent.com/minsuk-heo/deeplearning/master/img/early_stop.png\" width=\"500\" height=\"250\"/>"
            ],
            "text/plain": [
              "<IPython.core.display.Image object>"
            ]
          },
          "metadata": {
            "tags": []
          },
          "execution_count": 45
        }
      ]
    },
    {
      "cell_type": "code",
      "metadata": {
        "id": "WBOCpTMk3uu_",
        "colab_type": "code",
        "colab": {}
      },
      "source": [
        "# initialize\n",
        "init = tf.global_variables_initializer()\n",
        "\n",
        "# Add ops to save and restore all the variables.\n",
        "saver = tf.train.Saver()\n",
        "\n",
        "# train hyperparameters\n",
        "epoch_cnt = 300\n",
        "batch_size = 1000\n",
        "iteration = len(x_train) // batch_size\n",
        "\n",
        "earlystop_threshold = 5\n",
        "earlystop_cnt = 0"
      ],
      "execution_count": null,
      "outputs": []
    },
    {
      "cell_type": "code",
      "metadata": {
        "id": "jREnKxPr3u0N",
        "colab_type": "code",
        "colab": {
          "base_uri": "https://localhost:8080/",
          "height": 1000
        },
        "outputId": "534a979a-0f4e-4aec-9f1b-883cbcfdba8d"
      },
      "source": [
        "# Start training\n",
        "with tf.Session() as sess:\n",
        "    # Run the initializer\n",
        "    sess.run(init)\n",
        "    prev_train_acc = 0.0\n",
        "    max_val_acc = 0.0\n",
        "    \n",
        "    for epoch in range(epoch_cnt):\n",
        "        avg_loss = 0.\n",
        "        start = 0; end = batch_size\n",
        "        \n",
        "        for i in range(iteration):\n",
        "            _, loss = sess.run([train_op, loss_op], \n",
        "                               feed_dict={x: x_train[start: end], y: y_train[start: end], \n",
        "                                          keep_prob: 0.9})\n",
        "            start += batch_size; end += batch_size\n",
        "            # Compute train average loss\n",
        "            avg_loss += loss / iteration\n",
        "            \n",
        "        # Validate model\n",
        "        preds = tf.nn.softmax(logits)  # Apply softmax to logits\n",
        "        correct_prediction = tf.equal(tf.argmax(preds, 1), tf.argmax(y, 1))\n",
        "        # Calculate accuracy\n",
        "        accuracy = tf.reduce_mean(tf.cast(correct_prediction, \"float\"))\n",
        "        # train accuracy\n",
        "        cur_train_acc = accuracy.eval({x: x_train, y: y_train,keep_prob: 1.0})\n",
        "        # validation accuarcy\n",
        "        cur_val_acc = accuracy.eval({x: x_val, y: y_val, keep_prob: 1.0})\n",
        "        # validation loss\n",
        "        cur_val_loss = loss_op.eval({x: x_val, y: y_val,keep_prob: 1.0})\n",
        "        \n",
        "        print(\"epoch: \"+str(epoch)+\n",
        "              \", train acc: \" + str(cur_train_acc) +\n",
        "              \", val acc: \" + str(cur_val_acc) )\n",
        "              #', train loss: '+str(avg_loss)+\n",
        "              #', val loss: '+str(cur_val_loss))\n",
        "        \n",
        "        if cur_val_acc < max_val_acc:\n",
        "            if cur_train_acc > prev_train_acc or cur_train_acc > 0.99:\n",
        "                if earlystop_cnt == earlystop_threshold:\n",
        "                    print(\"early stopped on \"+str(epoch))\n",
        "                    break\n",
        "                else:\n",
        "                    print(\"overfitting warning: \"+str(earlystop_cnt))\n",
        "                    earlystop_cnt += 1\n",
        "            else:\n",
        "                earlystop_cnt = 0\n",
        "        else:\n",
        "            earlystop_cnt = 0\n",
        "            max_val_acc = cur_val_acc\n",
        "            # Save the variables to file.\n",
        "            save_path = saver.save(sess, \"model/model.ckpt\")\n",
        "        prev_train_acc = cur_train_acc"
      ],
      "execution_count": null,
      "outputs": [
        {
          "output_type": "stream",
          "text": [
            "epoch: 0, train acc: 0.25734, val acc: 0.2697\n",
            "epoch: 1, train acc: 0.41154, val acc: 0.4301\n",
            "epoch: 2, train acc: 0.52338, val acc: 0.5408\n",
            "epoch: 3, train acc: 0.60968, val acc: 0.6319\n",
            "epoch: 4, train acc: 0.6658, val acc: 0.6819\n",
            "epoch: 5, train acc: 0.70472, val acc: 0.7156\n",
            "epoch: 6, train acc: 0.7313, val acc: 0.7445\n",
            "epoch: 7, train acc: 0.7567, val acc: 0.767\n",
            "epoch: 8, train acc: 0.77766, val acc: 0.7886\n",
            "epoch: 9, train acc: 0.79752, val acc: 0.8039\n",
            "epoch: 10, train acc: 0.81356, val acc: 0.8208\n",
            "epoch: 11, train acc: 0.82868, val acc: 0.8335\n",
            "epoch: 12, train acc: 0.83904, val acc: 0.8425\n",
            "epoch: 13, train acc: 0.85026, val acc: 0.8522\n",
            "epoch: 14, train acc: 0.8594, val acc: 0.86\n",
            "epoch: 15, train acc: 0.86636, val acc: 0.8678\n",
            "epoch: 16, train acc: 0.87266, val acc: 0.8735\n",
            "epoch: 17, train acc: 0.87858, val acc: 0.8781\n",
            "epoch: 18, train acc: 0.88306, val acc: 0.8839\n",
            "epoch: 19, train acc: 0.8884, val acc: 0.8869\n",
            "epoch: 20, train acc: 0.89288, val acc: 0.8926\n",
            "epoch: 21, train acc: 0.8962, val acc: 0.8966\n",
            "epoch: 22, train acc: 0.90036, val acc: 0.8997\n",
            "epoch: 23, train acc: 0.90258, val acc: 0.9015\n",
            "epoch: 24, train acc: 0.90678, val acc: 0.9063\n",
            "epoch: 25, train acc: 0.90994, val acc: 0.91\n",
            "epoch: 26, train acc: 0.91214, val acc: 0.9107\n",
            "epoch: 27, train acc: 0.91532, val acc: 0.9134\n",
            "epoch: 28, train acc: 0.91726, val acc: 0.9136\n",
            "epoch: 29, train acc: 0.91916, val acc: 0.917\n",
            "epoch: 30, train acc: 0.92128, val acc: 0.9163\n",
            "overfitting warning: 0\n",
            "epoch: 31, train acc: 0.9233, val acc: 0.9193\n",
            "epoch: 32, train acc: 0.9241, val acc: 0.9197\n",
            "epoch: 33, train acc: 0.9262, val acc: 0.9223\n",
            "epoch: 34, train acc: 0.92834, val acc: 0.9242\n",
            "epoch: 35, train acc: 0.92932, val acc: 0.9231\n",
            "overfitting warning: 0\n",
            "epoch: 36, train acc: 0.93086, val acc: 0.9243\n",
            "epoch: 37, train acc: 0.93272, val acc: 0.9257\n",
            "epoch: 38, train acc: 0.93296, val acc: 0.9265\n",
            "epoch: 39, train acc: 0.93458, val acc: 0.9278\n",
            "epoch: 40, train acc: 0.93576, val acc: 0.9308\n",
            "epoch: 41, train acc: 0.93694, val acc: 0.9312\n",
            "epoch: 42, train acc: 0.93674, val acc: 0.9318\n",
            "epoch: 43, train acc: 0.93872, val acc: 0.9323\n",
            "epoch: 44, train acc: 0.94014, val acc: 0.9335\n",
            "epoch: 45, train acc: 0.94046, val acc: 0.9324\n",
            "overfitting warning: 0\n",
            "epoch: 46, train acc: 0.94206, val acc: 0.9338\n",
            "epoch: 47, train acc: 0.9431, val acc: 0.9344\n",
            "epoch: 48, train acc: 0.9438, val acc: 0.9346\n",
            "epoch: 49, train acc: 0.94394, val acc: 0.9354\n",
            "epoch: 50, train acc: 0.94576, val acc: 0.9359\n",
            "epoch: 51, train acc: 0.9451, val acc: 0.937\n",
            "epoch: 52, train acc: 0.94638, val acc: 0.9363\n",
            "overfitting warning: 0\n",
            "epoch: 53, train acc: 0.94674, val acc: 0.9364\n",
            "overfitting warning: 1\n",
            "epoch: 54, train acc: 0.9486, val acc: 0.9372\n",
            "epoch: 55, train acc: 0.94924, val acc: 0.9373\n",
            "epoch: 56, train acc: 0.94994, val acc: 0.938\n",
            "epoch: 57, train acc: 0.95012, val acc: 0.938\n",
            "epoch: 58, train acc: 0.9508, val acc: 0.9371\n",
            "overfitting warning: 0\n",
            "epoch: 59, train acc: 0.95126, val acc: 0.9388\n",
            "epoch: 60, train acc: 0.95256, val acc: 0.9392\n",
            "epoch: 61, train acc: 0.95328, val acc: 0.9399\n",
            "epoch: 62, train acc: 0.95428, val acc: 0.9403\n",
            "epoch: 63, train acc: 0.95404, val acc: 0.9402\n",
            "epoch: 64, train acc: 0.95584, val acc: 0.9409\n",
            "epoch: 65, train acc: 0.95624, val acc: 0.9403\n",
            "overfitting warning: 0\n",
            "epoch: 66, train acc: 0.95768, val acc: 0.9406\n",
            "overfitting warning: 1\n",
            "epoch: 67, train acc: 0.95672, val acc: 0.9399\n",
            "epoch: 68, train acc: 0.95824, val acc: 0.9413\n",
            "epoch: 69, train acc: 0.95834, val acc: 0.9409\n",
            "overfitting warning: 0\n",
            "epoch: 70, train acc: 0.9587, val acc: 0.941\n",
            "overfitting warning: 1\n",
            "epoch: 71, train acc: 0.95896, val acc: 0.9418\n",
            "epoch: 72, train acc: 0.9587, val acc: 0.94\n",
            "epoch: 73, train acc: 0.96016, val acc: 0.9431\n",
            "epoch: 74, train acc: 0.96096, val acc: 0.9429\n",
            "overfitting warning: 0\n",
            "epoch: 75, train acc: 0.96166, val acc: 0.9431\n",
            "epoch: 76, train acc: 0.96144, val acc: 0.9426\n",
            "epoch: 77, train acc: 0.96128, val acc: 0.9407\n",
            "epoch: 78, train acc: 0.96314, val acc: 0.9419\n",
            "overfitting warning: 0\n",
            "epoch: 79, train acc: 0.96262, val acc: 0.9419\n",
            "epoch: 80, train acc: 0.96368, val acc: 0.9432\n",
            "epoch: 81, train acc: 0.96272, val acc: 0.9422\n",
            "epoch: 82, train acc: 0.96158, val acc: 0.9426\n",
            "epoch: 83, train acc: 0.9625, val acc: 0.9412\n",
            "overfitting warning: 0\n",
            "epoch: 84, train acc: 0.96214, val acc: 0.9406\n",
            "epoch: 85, train acc: 0.96198, val acc: 0.9407\n",
            "epoch: 86, train acc: 0.96306, val acc: 0.9423\n",
            "overfitting warning: 0\n",
            "epoch: 87, train acc: 0.96514, val acc: 0.9432\n",
            "epoch: 88, train acc: 0.96436, val acc: 0.9439\n",
            "epoch: 89, train acc: 0.96404, val acc: 0.9438\n",
            "epoch: 90, train acc: 0.96552, val acc: 0.9424\n",
            "overfitting warning: 0\n",
            "epoch: 91, train acc: 0.9646, val acc: 0.9419\n",
            "epoch: 92, train acc: 0.96428, val acc: 0.9417\n",
            "epoch: 93, train acc: 0.96506, val acc: 0.9435\n",
            "overfitting warning: 0\n",
            "epoch: 94, train acc: 0.9657, val acc: 0.9433\n",
            "overfitting warning: 1\n",
            "epoch: 95, train acc: 0.965, val acc: 0.9416\n",
            "epoch: 96, train acc: 0.96718, val acc: 0.9434\n",
            "overfitting warning: 0\n",
            "epoch: 97, train acc: 0.96778, val acc: 0.9428\n",
            "overfitting warning: 1\n",
            "epoch: 98, train acc: 0.96902, val acc: 0.945\n",
            "epoch: 99, train acc: 0.96864, val acc: 0.9444\n",
            "epoch: 100, train acc: 0.9683, val acc: 0.9434\n",
            "epoch: 101, train acc: 0.96848, val acc: 0.9424\n",
            "overfitting warning: 0\n",
            "epoch: 102, train acc: 0.96816, val acc: 0.9422\n",
            "epoch: 103, train acc: 0.96942, val acc: 0.943\n",
            "overfitting warning: 0\n",
            "epoch: 104, train acc: 0.96834, val acc: 0.9413\n",
            "epoch: 105, train acc: 0.97028, val acc: 0.9437\n",
            "overfitting warning: 0\n",
            "epoch: 106, train acc: 0.97024, val acc: 0.9423\n",
            "epoch: 107, train acc: 0.97004, val acc: 0.943\n",
            "epoch: 108, train acc: 0.97044, val acc: 0.9432\n",
            "overfitting warning: 0\n",
            "epoch: 109, train acc: 0.96906, val acc: 0.9423\n",
            "epoch: 110, train acc: 0.9705, val acc: 0.942\n",
            "overfitting warning: 0\n",
            "epoch: 111, train acc: 0.9711, val acc: 0.9445\n",
            "overfitting warning: 1\n",
            "epoch: 112, train acc: 0.97184, val acc: 0.9427\n",
            "overfitting warning: 2\n",
            "epoch: 113, train acc: 0.97502, val acc: 0.9448\n",
            "overfitting warning: 3\n",
            "epoch: 114, train acc: 0.97434, val acc: 0.9446\n",
            "epoch: 115, train acc: 0.97278, val acc: 0.945\n",
            "epoch: 116, train acc: 0.97318, val acc: 0.9444\n",
            "overfitting warning: 0\n",
            "epoch: 117, train acc: 0.97464, val acc: 0.9453\n",
            "epoch: 118, train acc: 0.97554, val acc: 0.9467\n",
            "epoch: 119, train acc: 0.97612, val acc: 0.9457\n",
            "overfitting warning: 0\n",
            "epoch: 120, train acc: 0.97512, val acc: 0.948\n",
            "epoch: 121, train acc: 0.97484, val acc: 0.9459\n",
            "epoch: 122, train acc: 0.97402, val acc: 0.9468\n",
            "epoch: 123, train acc: 0.97192, val acc: 0.9443\n",
            "epoch: 124, train acc: 0.97162, val acc: 0.9439\n",
            "epoch: 125, train acc: 0.97472, val acc: 0.9461\n",
            "overfitting warning: 0\n",
            "epoch: 126, train acc: 0.9704, val acc: 0.944\n",
            "epoch: 127, train acc: 0.9733, val acc: 0.945\n",
            "overfitting warning: 0\n",
            "epoch: 128, train acc: 0.97254, val acc: 0.946\n",
            "epoch: 129, train acc: 0.97246, val acc: 0.9448\n",
            "epoch: 130, train acc: 0.97498, val acc: 0.9478\n",
            "overfitting warning: 0\n",
            "epoch: 131, train acc: 0.97662, val acc: 0.9474\n",
            "overfitting warning: 1\n",
            "epoch: 132, train acc: 0.97504, val acc: 0.9483\n",
            "epoch: 133, train acc: 0.97558, val acc: 0.9482\n",
            "overfitting warning: 0\n",
            "epoch: 134, train acc: 0.97334, val acc: 0.9465\n",
            "epoch: 135, train acc: 0.97676, val acc: 0.9489\n",
            "epoch: 136, train acc: 0.97812, val acc: 0.9506\n",
            "epoch: 137, train acc: 0.97668, val acc: 0.948\n",
            "epoch: 138, train acc: 0.9764, val acc: 0.9482\n",
            "epoch: 139, train acc: 0.9773, val acc: 0.9479\n",
            "overfitting warning: 0\n",
            "epoch: 140, train acc: 0.9776, val acc: 0.9492\n",
            "overfitting warning: 1\n",
            "epoch: 141, train acc: 0.97798, val acc: 0.9487\n",
            "overfitting warning: 2\n",
            "epoch: 142, train acc: 0.9791, val acc: 0.951\n",
            "epoch: 143, train acc: 0.9766, val acc: 0.9478\n",
            "epoch: 144, train acc: 0.97956, val acc: 0.9514\n",
            "epoch: 145, train acc: 0.97854, val acc: 0.951\n",
            "epoch: 146, train acc: 0.9764, val acc: 0.9474\n",
            "epoch: 147, train acc: 0.97596, val acc: 0.9503\n",
            "epoch: 148, train acc: 0.97856, val acc: 0.9504\n",
            "overfitting warning: 0\n",
            "epoch: 149, train acc: 0.98118, val acc: 0.9515\n",
            "epoch: 150, train acc: 0.98094, val acc: 0.9509\n",
            "epoch: 151, train acc: 0.9798, val acc: 0.9499\n",
            "epoch: 152, train acc: 0.98072, val acc: 0.9507\n",
            "overfitting warning: 0\n",
            "epoch: 153, train acc: 0.98162, val acc: 0.9525\n",
            "epoch: 154, train acc: 0.98174, val acc: 0.9531\n",
            "epoch: 155, train acc: 0.98012, val acc: 0.9501\n",
            "epoch: 156, train acc: 0.98136, val acc: 0.9503\n",
            "overfitting warning: 0\n",
            "epoch: 157, train acc: 0.98432, val acc: 0.9529\n",
            "overfitting warning: 1\n",
            "epoch: 158, train acc: 0.98328, val acc: 0.9493\n",
            "epoch: 159, train acc: 0.982, val acc: 0.9485\n",
            "epoch: 160, train acc: 0.98186, val acc: 0.9491\n",
            "epoch: 161, train acc: 0.9834, val acc: 0.95\n",
            "overfitting warning: 0\n",
            "epoch: 162, train acc: 0.98234, val acc: 0.952\n",
            "epoch: 163, train acc: 0.9793, val acc: 0.9481\n",
            "epoch: 164, train acc: 0.98362, val acc: 0.9527\n",
            "overfitting warning: 0\n",
            "epoch: 165, train acc: 0.98274, val acc: 0.9516\n",
            "epoch: 166, train acc: 0.98496, val acc: 0.9539\n",
            "epoch: 167, train acc: 0.98408, val acc: 0.953\n",
            "epoch: 168, train acc: 0.98246, val acc: 0.9535\n",
            "epoch: 169, train acc: 0.98374, val acc: 0.9536\n",
            "overfitting warning: 0\n",
            "epoch: 170, train acc: 0.9856, val acc: 0.953\n",
            "overfitting warning: 1\n",
            "epoch: 171, train acc: 0.98526, val acc: 0.9525\n",
            "epoch: 172, train acc: 0.9868, val acc: 0.9573\n",
            "epoch: 173, train acc: 0.98684, val acc: 0.9548\n",
            "overfitting warning: 0\n",
            "epoch: 174, train acc: 0.98662, val acc: 0.9567\n",
            "epoch: 175, train acc: 0.98606, val acc: 0.9568\n",
            "epoch: 176, train acc: 0.9871, val acc: 0.9565\n",
            "overfitting warning: 0\n",
            "epoch: 177, train acc: 0.98578, val acc: 0.9555\n",
            "epoch: 178, train acc: 0.98546, val acc: 0.9556\n",
            "epoch: 179, train acc: 0.98742, val acc: 0.9563\n",
            "overfitting warning: 0\n",
            "epoch: 180, train acc: 0.9866, val acc: 0.958\n",
            "epoch: 181, train acc: 0.98858, val acc: 0.9595\n",
            "epoch: 182, train acc: 0.989, val acc: 0.9563\n",
            "overfitting warning: 0\n",
            "epoch: 183, train acc: 0.98684, val acc: 0.9549\n",
            "epoch: 184, train acc: 0.98788, val acc: 0.9566\n",
            "overfitting warning: 0\n",
            "epoch: 185, train acc: 0.98826, val acc: 0.9566\n",
            "overfitting warning: 1\n",
            "epoch: 186, train acc: 0.98834, val acc: 0.9559\n",
            "overfitting warning: 2\n",
            "epoch: 187, train acc: 0.98828, val acc: 0.957\n",
            "epoch: 188, train acc: 0.98754, val acc: 0.9566\n",
            "epoch: 189, train acc: 0.98882, val acc: 0.957\n",
            "overfitting warning: 0\n",
            "epoch: 190, train acc: 0.98974, val acc: 0.9584\n",
            "overfitting warning: 1\n",
            "epoch: 191, train acc: 0.98678, val acc: 0.956\n",
            "epoch: 192, train acc: 0.98738, val acc: 0.9594\n",
            "overfitting warning: 0\n",
            "epoch: 193, train acc: 0.98956, val acc: 0.9585\n",
            "overfitting warning: 1\n",
            "epoch: 194, train acc: 0.99036, val acc: 0.9589\n",
            "overfitting warning: 2\n",
            "epoch: 195, train acc: 0.98866, val acc: 0.9579\n",
            "epoch: 196, train acc: 0.99072, val acc: 0.9597\n",
            "epoch: 197, train acc: 0.98914, val acc: 0.9592\n",
            "epoch: 198, train acc: 0.9888, val acc: 0.9596\n",
            "epoch: 199, train acc: 0.98568, val acc: 0.9566\n",
            "epoch: 200, train acc: 0.98802, val acc: 0.9589\n",
            "overfitting warning: 0\n",
            "epoch: 201, train acc: 0.9907, val acc: 0.9589\n",
            "overfitting warning: 1\n",
            "epoch: 202, train acc: 0.98912, val acc: 0.9574\n",
            "epoch: 203, train acc: 0.98838, val acc: 0.9571\n",
            "epoch: 204, train acc: 0.99172, val acc: 0.9576\n",
            "overfitting warning: 0\n",
            "epoch: 205, train acc: 0.99226, val acc: 0.9616\n",
            "epoch: 206, train acc: 0.98998, val acc: 0.9588\n",
            "epoch: 207, train acc: 0.98826, val acc: 0.9565\n",
            "epoch: 208, train acc: 0.99034, val acc: 0.9584\n",
            "overfitting warning: 0\n",
            "epoch: 209, train acc: 0.98998, val acc: 0.9592\n",
            "epoch: 210, train acc: 0.99004, val acc: 0.9584\n",
            "overfitting warning: 0\n",
            "epoch: 211, train acc: 0.99182, val acc: 0.9595\n",
            "overfitting warning: 1\n",
            "epoch: 212, train acc: 0.98826, val acc: 0.958\n",
            "epoch: 213, train acc: 0.99296, val acc: 0.9619\n",
            "epoch: 214, train acc: 0.99198, val acc: 0.9607\n",
            "overfitting warning: 0\n",
            "epoch: 215, train acc: 0.99108, val acc: 0.9613\n",
            "overfitting warning: 1\n",
            "epoch: 216, train acc: 0.99198, val acc: 0.9611\n",
            "overfitting warning: 2\n",
            "epoch: 217, train acc: 0.99166, val acc: 0.9596\n",
            "overfitting warning: 3\n",
            "epoch: 218, train acc: 0.99194, val acc: 0.9598\n",
            "overfitting warning: 4\n",
            "epoch: 219, train acc: 0.99164, val acc: 0.9591\n",
            "early stopped on 219\n"
          ],
          "name": "stdout"
        }
      ]
    },
    {
      "cell_type": "code",
      "metadata": {
        "id": "qATpA_jx4UIu",
        "colab_type": "code",
        "colab": {
          "base_uri": "https://localhost:8080/",
          "height": 127
        },
        "outputId": "b67f802b-bd0c-412c-f318-329a3e50ce5d"
      },
      "source": [
        "# Testing with the best epoch\n",
        "# Start testing\n",
        "with tf.Session() as sess:\n",
        "    # Restore variables from disk.\n",
        "    saver.restore(sess, \"model/model.ckpt\")\n",
        "    correct_prediction = tf.equal(tf.argmax(preds, 1), tf.argmax(y, 1))\n",
        "    # Calculate accuracy\n",
        "    accuracy = tf.reduce_mean(tf.cast(correct_prediction, \"float\"))\n",
        "    print(\"[Test Accuracy] :\", accuracy.eval({x: x_test, y: y_test, keep_prob: 1.0}))"
      ],
      "execution_count": null,
      "outputs": [
        {
          "output_type": "stream",
          "text": [
            "WARNING:tensorflow:From /usr/local/lib/python3.6/dist-packages/tensorflow/python/training/saver.py:1266: checkpoint_exists (from tensorflow.python.training.checkpoint_management) is deprecated and will be removed in a future version.\n",
            "Instructions for updating:\n",
            "Use standard file APIs to check for files with this prefix.\n",
            "INFO:tensorflow:Restoring parameters from model/model.ckpt\n",
            "[Test Accuracy] : 0.957\n"
          ],
          "name": "stdout"
        }
      ]
    }
  ]
}